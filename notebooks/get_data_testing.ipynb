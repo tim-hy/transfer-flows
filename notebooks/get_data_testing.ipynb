{
 "cells": [
  {
   "cell_type": "code",
   "execution_count": 2,
   "metadata": {},
   "outputs": [],
   "source": [
    "import pandas as pd\n",
    "import os"
   ]
  },
  {
   "attachments": {},
   "cell_type": "markdown",
   "metadata": {},
   "source": [
    "### Big League Data"
   ]
  },
  {
   "cell_type": "code",
   "execution_count": 8,
   "metadata": {},
   "outputs": [],
   "source": [
    "# Reading into dict\n",
    "cwd = os.getcwd()\n",
    "data_path = os.path.abspath(os.path.join(cwd, \"..\", \"data\", \"raw\"))\n",
    "    \n",
    "data_dict = {}\n",
    "for file in os.listdir(data_path):\n",
    "    filename = file.split(\".\")[0]\n",
    "    filepath = os.path.join(data_path, file)\n",
    "    \n",
    "    data_dict[filename] = pd.read_csv(filepath)"
   ]
  },
  {
   "cell_type": "code",
   "execution_count": 15,
   "metadata": {},
   "outputs": [],
   "source": [
    "# Getting club and league pairing list\n",
    "league_id_dict = {}\n",
    "\n",
    "for league, df in data_dict.items():\n",
    "    clubs = df.club_name.unique().tolist()\n",
    "\n",
    "    for club in clubs:\n",
    "        league_id_dict[club] = league"
   ]
  },
  {
   "cell_type": "code",
   "execution_count": 51,
   "metadata": {},
   "outputs": [],
   "source": [
    "# Mapping club transferred to, to league\n",
    "for league, df in data_dict.items():\n",
    "    df.rename(columns={'league_name':'league_from_name'}, inplace=True)\n",
    "\n",
    "    df[\"league_to_name\"] = df[\"club_involved_name\"].map(league_id_dict)\n",
    "\n",
    "    # Create internal transfers df, containing only transfers between these leagues\n",
    "    export_df = df.loc[df[\"league_to_name\"].str.len() > 0]\n",
    "\n",
    "    export_path = os.path.join(data_path)"
   ]
  },
  {
   "attachments": {},
   "cell_type": "markdown",
   "metadata": {},
   "source": [
    "Issue - `club_involved_name` does not always match `club_involved_name`, and even so many clubs are outside of Europe anyway - add lower-level European clubs"
   ]
  },
  {
   "cell_type": "code",
   "execution_count": 77,
   "metadata": {},
   "outputs": [
    {
     "data": {
      "text/plain": [
       "15.409822112520214"
      ]
     },
     "execution_count": 77,
     "metadata": {},
     "output_type": "execute_result"
    }
   ],
   "source": [
    "num_pl_transfers = len(data_dict[\"premier-league\"])\n",
    "\n",
    "df = data_dict[\"premier-league\"]\n",
    "df_league = df.loc[df[\"league_to_name\"].str.len() > 0]\n",
    "num_pl_bigleague_transfers = len(df_league)\n",
    "\n",
    "# % of premier league transfers going to top leagues\n",
    "num_pl_bigleague_transfers / num_pl_transfers * 100"
   ]
  },
  {
   "cell_type": "code",
   "execution_count": 107,
   "metadata": {},
   "outputs": [
    {
     "data": {
      "text/plain": [
       "23.167039410036978"
      ]
     },
     "execution_count": 107,
     "metadata": {},
     "output_type": "execute_result"
    }
   ],
   "source": [
    "# PL transfers made between eu clubs as a % of total PL fees \n",
    "df_league.fee_cleaned.sum() / data_dict[\"premier-league\"].fee_cleaned.sum() * 100"
   ]
  },
  {
   "cell_type": "code",
   "execution_count": 106,
   "metadata": {},
   "outputs": [
    {
     "name": "stderr",
     "output_type": "stream",
     "text": [
      "C:\\Users\\timhy\\AppData\\Local\\Temp\\ipykernel_3752\\3173271197.py:2: FutureWarning: The default value of numeric_only in DataFrameGroupBy.sum is deprecated. In a future version, numeric_only will default to False. Either specify numeric_only or select only columns which should be valid for the function.\n",
      "  data_dict[\"premier-league\"].loc[data_dict[\"premier-league\"][\"league_to_name\"].str.len() > 0].groupby(by=[\"transfer_movement\", \"league_to_name\"]).sum()\n"
     ]
    },
    {
     "data": {
      "text/html": [
       "<div>\n",
       "<style scoped>\n",
       "    .dataframe tbody tr th:only-of-type {\n",
       "        vertical-align: middle;\n",
       "    }\n",
       "\n",
       "    .dataframe tbody tr th {\n",
       "        vertical-align: top;\n",
       "    }\n",
       "\n",
       "    .dataframe thead th {\n",
       "        text-align: right;\n",
       "    }\n",
       "</style>\n",
       "<table border=\"1\" class=\"dataframe\">\n",
       "  <thead>\n",
       "    <tr style=\"text-align: right;\">\n",
       "      <th></th>\n",
       "      <th></th>\n",
       "      <th>age</th>\n",
       "      <th>fee_cleaned</th>\n",
       "      <th>year</th>\n",
       "    </tr>\n",
       "    <tr>\n",
       "      <th>transfer_movement</th>\n",
       "      <th>league_to_name</th>\n",
       "      <th></th>\n",
       "      <th></th>\n",
       "      <th></th>\n",
       "    </tr>\n",
       "  </thead>\n",
       "  <tbody>\n",
       "    <tr>\n",
       "      <th rowspan=\"9\" valign=\"top\">in</th>\n",
       "      <th>1-bundesliga</th>\n",
       "      <td>4099.0</td>\n",
       "      <td>893.500</td>\n",
       "      <td>328148</td>\n",
       "    </tr>\n",
       "    <tr>\n",
       "      <th>championship</th>\n",
       "      <td>5709.0</td>\n",
       "      <td>99.561</td>\n",
       "      <td>515769</td>\n",
       "    </tr>\n",
       "    <tr>\n",
       "      <th>eredivisie</th>\n",
       "      <td>2635.0</td>\n",
       "      <td>350.800</td>\n",
       "      <td>221177</td>\n",
       "    </tr>\n",
       "    <tr>\n",
       "      <th>liga-nos</th>\n",
       "      <td>2131.0</td>\n",
       "      <td>762.450</td>\n",
       "      <td>175042</td>\n",
       "    </tr>\n",
       "    <tr>\n",
       "      <th>ligue-1</th>\n",
       "      <td>3988.0</td>\n",
       "      <td>1108.830</td>\n",
       "      <td>341785</td>\n",
       "    </tr>\n",
       "    <tr>\n",
       "      <th>premier-league</th>\n",
       "      <td>15232.0</td>\n",
       "      <td>1012.824</td>\n",
       "      <td>1240291</td>\n",
       "    </tr>\n",
       "    <tr>\n",
       "      <th>premier-liga</th>\n",
       "      <td>732.0</td>\n",
       "      <td>164.130</td>\n",
       "      <td>56327</td>\n",
       "    </tr>\n",
       "    <tr>\n",
       "      <th>primera-division</th>\n",
       "      <td>5306.0</td>\n",
       "      <td>1128.670</td>\n",
       "      <td>426534</td>\n",
       "    </tr>\n",
       "    <tr>\n",
       "      <th>serie-a</th>\n",
       "      <td>3791.0</td>\n",
       "      <td>771.015</td>\n",
       "      <td>291857</td>\n",
       "    </tr>\n",
       "    <tr>\n",
       "      <th rowspan=\"9\" valign=\"top\">out</th>\n",
       "      <th>1-bundesliga</th>\n",
       "      <td>3130.0</td>\n",
       "      <td>395.300</td>\n",
       "      <td>251706</td>\n",
       "    </tr>\n",
       "    <tr>\n",
       "      <th>championship</th>\n",
       "      <td>7507.0</td>\n",
       "      <td>22.494</td>\n",
       "      <td>666313</td>\n",
       "    </tr>\n",
       "    <tr>\n",
       "      <th>eredivisie</th>\n",
       "      <td>1880.0</td>\n",
       "      <td>14.050</td>\n",
       "      <td>158976</td>\n",
       "    </tr>\n",
       "    <tr>\n",
       "      <th>liga-nos</th>\n",
       "      <td>1264.0</td>\n",
       "      <td>57.210</td>\n",
       "      <td>102653</td>\n",
       "    </tr>\n",
       "    <tr>\n",
       "      <th>ligue-1</th>\n",
       "      <td>2653.0</td>\n",
       "      <td>87.640</td>\n",
       "      <td>211150</td>\n",
       "    </tr>\n",
       "    <tr>\n",
       "      <th>premier-league</th>\n",
       "      <td>19188.0</td>\n",
       "      <td>926.028</td>\n",
       "      <td>1545239</td>\n",
       "    </tr>\n",
       "    <tr>\n",
       "      <th>premier-liga</th>\n",
       "      <td>601.0</td>\n",
       "      <td>56.000</td>\n",
       "      <td>46310</td>\n",
       "    </tr>\n",
       "    <tr>\n",
       "      <th>primera-division</th>\n",
       "      <td>5251.0</td>\n",
       "      <td>800.215</td>\n",
       "      <td>420537</td>\n",
       "    </tr>\n",
       "    <tr>\n",
       "      <th>serie-a</th>\n",
       "      <td>3659.0</td>\n",
       "      <td>330.050</td>\n",
       "      <td>276001</td>\n",
       "    </tr>\n",
       "  </tbody>\n",
       "</table>\n",
       "</div>"
      ],
      "text/plain": [
       "                                        age  fee_cleaned     year\n",
       "transfer_movement league_to_name                                 \n",
       "in                1-bundesliga       4099.0      893.500   328148\n",
       "                  championship       5709.0       99.561   515769\n",
       "                  eredivisie         2635.0      350.800   221177\n",
       "                  liga-nos           2131.0      762.450   175042\n",
       "                  ligue-1            3988.0     1108.830   341785\n",
       "                  premier-league    15232.0     1012.824  1240291\n",
       "                  premier-liga        732.0      164.130    56327\n",
       "                  primera-division   5306.0     1128.670   426534\n",
       "                  serie-a            3791.0      771.015   291857\n",
       "out               1-bundesliga       3130.0      395.300   251706\n",
       "                  championship       7507.0       22.494   666313\n",
       "                  eredivisie         1880.0       14.050   158976\n",
       "                  liga-nos           1264.0       57.210   102653\n",
       "                  ligue-1            2653.0       87.640   211150\n",
       "                  premier-league    19188.0      926.028  1545239\n",
       "                  premier-liga        601.0       56.000    46310\n",
       "                  primera-division   5251.0      800.215   420537\n",
       "                  serie-a            3659.0      330.050   276001"
      ]
     },
     "execution_count": 106,
     "metadata": {},
     "output_type": "execute_result"
    }
   ],
   "source": [
    "# The required calculation for flows in/out\n",
    "data_dict[\"premier-league\"].loc[data_dict[\"premier-league\"][\"league_to_name\"].str.len() > 0].groupby(by=[\"transfer_movement\", \"league_to_name\"]).sum()"
   ]
  },
  {
   "attachments": {},
   "cell_type": "markdown",
   "metadata": {},
   "source": [
    "### All club data"
   ]
  },
  {
   "cell_type": "code",
   "execution_count": 86,
   "metadata": {},
   "outputs": [],
   "source": [
    "team_names = pd.read_csv(os.path.join(data_path, \"jokecamp_teams.csv\"), encoding=\"utf-8\")"
   ]
  },
  {
   "cell_type": "code",
   "execution_count": 87,
   "metadata": {},
   "outputs": [
    {
     "data": {
      "text/html": [
       "<div>\n",
       "<style scoped>\n",
       "    .dataframe tbody tr th:only-of-type {\n",
       "        vertical-align: middle;\n",
       "    }\n",
       "\n",
       "    .dataframe tbody tr th {\n",
       "        vertical-align: top;\n",
       "    }\n",
       "\n",
       "    .dataframe thead th {\n",
       "        text-align: right;\n",
       "    }\n",
       "</style>\n",
       "<table border=\"1\" class=\"dataframe\">\n",
       "  <thead>\n",
       "    <tr style=\"text-align: right;\">\n",
       "      <th></th>\n",
       "      <th>Name</th>\n",
       "      <th>LeagueCode</th>\n",
       "    </tr>\n",
       "  </thead>\n",
       "  <tbody>\n",
       "    <tr>\n",
       "      <th>0</th>\n",
       "      <td>Shanghai SIPG FC</td>\n",
       "      <td>CHN-D1</td>\n",
       "    </tr>\n",
       "    <tr>\n",
       "      <th>1</th>\n",
       "      <td>&amp;Ntilde;ublense</td>\n",
       "      <td>CHI-AP</td>\n",
       "    </tr>\n",
       "    <tr>\n",
       "      <th>2</th>\n",
       "      <td>1461 Trabzon</td>\n",
       "      <td>TUR-1LG</td>\n",
       "    </tr>\n",
       "    <tr>\n",
       "      <th>3</th>\n",
       "      <td>1461 Trabzon</td>\n",
       "      <td>TUR-CUP</td>\n",
       "    </tr>\n",
       "    <tr>\n",
       "      <th>4</th>\n",
       "      <td>1896 Rain Am Lech</td>\n",
       "      <td>GER-RLBV</td>\n",
       "    </tr>\n",
       "    <tr>\n",
       "      <th>...</th>\n",
       "      <td>...</td>\n",
       "      <td>...</td>\n",
       "    </tr>\n",
       "    <tr>\n",
       "      <th>4717</th>\n",
       "      <td>Örebro SK</td>\n",
       "      <td>SWE-SPR</td>\n",
       "    </tr>\n",
       "    <tr>\n",
       "      <th>4718</th>\n",
       "      <td>Örgryte IS</td>\n",
       "      <td>SWE-FA</td>\n",
       "    </tr>\n",
       "    <tr>\n",
       "      <th>4719</th>\n",
       "      <td>Örgryte IS</td>\n",
       "      <td>SWE-SPR</td>\n",
       "    </tr>\n",
       "    <tr>\n",
       "      <th>4720</th>\n",
       "      <td>Östers IF</td>\n",
       "      <td>SWE-ASV</td>\n",
       "    </tr>\n",
       "    <tr>\n",
       "      <th>4721</th>\n",
       "      <td>Östers IF</td>\n",
       "      <td>SWE-FA</td>\n",
       "    </tr>\n",
       "  </tbody>\n",
       "</table>\n",
       "<p>4722 rows × 2 columns</p>\n",
       "</div>"
      ],
      "text/plain": [
       "                   Name LeagueCode\n",
       "0      Shanghai SIPG FC     CHN-D1\n",
       "1       &Ntilde;ublense     CHI-AP\n",
       "2          1461 Trabzon    TUR-1LG\n",
       "3          1461 Trabzon    TUR-CUP\n",
       "4     1896 Rain Am Lech   GER-RLBV\n",
       "...                 ...        ...\n",
       "4717          Örebro SK    SWE-SPR\n",
       "4718         Örgryte IS     SWE-FA\n",
       "4719         Örgryte IS    SWE-SPR\n",
       "4720          Östers IF    SWE-ASV\n",
       "4721          Östers IF     SWE-FA\n",
       "\n",
       "[4722 rows x 2 columns]"
      ]
     },
     "execution_count": 87,
     "metadata": {},
     "output_type": "execute_result"
    }
   ],
   "source": [
    "team_names"
   ]
  }
 ],
 "metadata": {
  "kernelspec": {
   "display_name": "trflows-env",
   "language": "python",
   "name": "python3"
  },
  "language_info": {
   "codemirror_mode": {
    "name": "ipython",
    "version": 3
   },
   "file_extension": ".py",
   "mimetype": "text/x-python",
   "name": "python",
   "nbconvert_exporter": "python",
   "pygments_lexer": "ipython3",
   "version": "3.10.9"
  },
  "orig_nbformat": 4,
  "vscode": {
   "interpreter": {
    "hash": "bbec60cc12875807920b970c27bbb64b47e71925243b396e5e7f638943298428"
   }
  }
 },
 "nbformat": 4,
 "nbformat_minor": 2
}
